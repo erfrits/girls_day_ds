{
  "nbformat": 4,
  "nbformat_minor": 0,
  "metadata": {
    "colab": {
      "provenance": [],
      "authorship_tag": "ABX9TyPn6rqWZJMZiGn30RFamute",
      "include_colab_link": true
    },
    "kernelspec": {
      "name": "python3",
      "display_name": "Python 3"
    },
    "language_info": {
      "name": "python"
    }
  },
  "cells": [
    {
      "cell_type": "markdown",
      "metadata": {
        "id": "view-in-github",
        "colab_type": "text"
      },
      "source": [
        "<a href=\"https://colab.research.google.com/github/erfrits/girls_day_ds/blob/main/1_intro.ipynb\" target=\"_parent\"><img src=\"https://colab.research.google.com/assets/colab-badge.svg\" alt=\"Open In Colab\"/></a>"
      ]
    },
    {
      "cell_type": "markdown",
      "source": [
        "# Bevezető"
      ],
      "metadata": {
        "id": "daSK7hxh5mfb"
      }
    },
    {
      "cell_type": "markdown",
      "source": [
        "## Kik vagyunk ma itt?"
      ],
      "metadata": {
        "id": "8v9UYTck5tbi"
      }
    },
    {
      "cell_type": "code",
      "source": [
        "# Ki hány üzenetet küldött el ma?\n",
        "messages = []"
      ],
      "metadata": {
        "id": "NMLjBiHXfQCk"
      },
      "execution_count": null,
      "outputs": []
    },
    {
      "cell_type": "code",
      "source": [
        "# Ki hány videót/képet lájkolt ma?\n",
        "likes = []"
      ],
      "metadata": {
        "id": "CRSg-hvtfgR7"
      },
      "execution_count": null,
      "outputs": []
    },
    {
      "cell_type": "code",
      "source": [
        "# Adat vagy információ?\n",
        "data_info = {\n",
        "    \"Autó és végsebessége táblázatan\": {\"adat\": 0, \"információ\": 0},\n",
        "    \"Tegnap 10-kor volt egy meeting\": {\"adat\": 0, \"információ\": 0}\n",
        "}"
      ],
      "metadata": {
        "id": "pfTNYtF8o5rv"
      },
      "execution_count": null,
      "outputs": []
    },
    {
      "cell_type": "code",
      "source": [
        "# Ki milyen programozási nyelvet használ?\n",
        "prog_lng = {\n",
        "    \"Python\": 0,\n",
        "    \"Java\": 0,\n",
        "    \"C++\": 0,\n",
        "    \"Go\": 0,\n",
        "    \"JavaScript/TypeScript\": 0,\n",
        "    \"Más\": 0,\n",
        "    \"Nem programozok\": 0\n",
        "}"
      ],
      "metadata": {
        "id": "qmZOL-ZU1IHp"
      },
      "execution_count": null,
      "outputs": []
    },
    {
      "cell_type": "code",
      "source": [
        "# Ki tudja mi az a data science (adattudomány)?\n",
        "ds_know = {\n",
        "    'Nem hallottam még róla': 0,\n",
        "    'Hallottam, de nem tudom': 0,\n",
        "    'El tudom képzelni': 0,\n",
        "    'Próbálkoztam már vele': 0,\n",
        "    'Akár én is tarthatnám ezt a workshopot': 0\n",
        "}"
      ],
      "metadata": {
        "id": "ofpod6x0MSt7"
      },
      "execution_count": null,
      "outputs": []
    },
    {
      "cell_type": "code",
      "source": [
        "# Ki használt már gépi tanulást bármire?\n",
        "ml_use = {\n",
        "    'Igen': 0,\n",
        "    'Nem': 0\n",
        "}"
      ],
      "metadata": {
        "id": "9uFNjiG7E6_S"
      },
      "execution_count": null,
      "outputs": []
    },
    {
      "cell_type": "code",
      "source": [
        "# Ki használt már ChatGPT-t, Bing Copilotot, GitHub Copilot-ot, Google Gemini, stb.?\n",
        "llm_use = {\n",
        "    \"ChatGPT\": 0,\n",
        "    \"Bing Copilot\": 0,\n",
        "    \"Google Gemini\": 0,\n",
        "    \"GitHub Copilot\": 0,\n",
        "    \"Más\": 0,\n",
        "    \"Nem használtam\": 0\n",
        "}\n"
      ],
      "metadata": {
        "id": "dNuzY2kBFYq8"
      },
      "execution_count": null,
      "outputs": []
    },
    {
      "cell_type": "code",
      "source": [
        "# Használtál-e AI eszközt házi feladathoz, beaddandó dolgozathoz?\n",
        "ai_tool = {\n",
        "    \"Igen\": 0,\n",
        "    \"Nem\": 0,\n",
        "    \"Nem válaszolt\": 0\n",
        "}"
      ],
      "metadata": {
        "id": "zaJxaq9CgWvO"
      },
      "execution_count": null,
      "outputs": []
    },
    {
      "cell_type": "code",
      "source": [
        "# Honnan jöttél (vármegye első két betű), kor, magasság, cipőméret?\n",
        "data = [\n",
        "    []\n",
        "]\n"
      ],
      "metadata": {
        "id": "57Rg-0-UCDGL"
      },
      "execution_count": null,
      "outputs": []
    },
    {
      "cell_type": "markdown",
      "source": [
        "## Egy kis történelem...\n",
        "\n",
        "Adatok mindenütt vannak és minden másodpercben generáljuk és gyűjtjük őket.\n",
        "\n",
        "Már az ősember is...  \n",
        "![barlangrajz](https://upload.wikimedia.org/wikipedia/commons/6/6f/Lubang_Jeriji_Sal%C3%A9h_cave_painting_of_Bull.jpg)\n",
        "\n",
        "És azóta is csak gyártjuk...  \n",
        "![könyvtár](https://upload.wikimedia.org/wikipedia/commons/4/45/%E3%83%AA%E3%82%AA%E3%81%AE%E5%B9%BB%E6%83%B3%E5%9B%B3%E6%9B%B8%E9%A4%A8_Real_Gabinete_Portugues_de_Leitura_%288735773218%29.jpg)\n",
        "\n",
        "Már az elődeink is tudták, hogy az adatokat táblázatban könnyebb használni:  \n",
        "![Babylon](https://upload.wikimedia.org/wikipedia/commons/c/c2/Plimpton_322.jpg)\n",
        "\n",
        "Azóta is ezt a formát használjuk :)  \n",
        "![adattábla](https://upload.wikimedia.org/wikipedia/commons/9/98/Rollup_table.png)\n",
        "\n"
      ],
      "metadata": {
        "id": "JoL8q3kYgbzG"
      }
    },
    {
      "cell_type": "markdown",
      "source": [
        "## Mit tehetünk az adatokkal? - adatelemzés\n"
      ],
      "metadata": {
        "id": "uNDy4XSboKWN"
      }
    },
    {
      "cell_type": "code",
      "source": [
        "# Hányan vagyunk ma itt?\n",
        "(len(messages), len(likes))"
      ],
      "metadata": {
        "id": "8Z8bK96poITb"
      },
      "execution_count": null,
      "outputs": []
    },
    {
      "cell_type": "code",
      "source": [
        "# Néhány alapadat az üzenetküldési szokásainkról...\n",
        "print(\"Átlagos üzenetszám: \", sum(messages) / len(messages))\n",
        "print(\"Legaktívabb felhasználó üzenetei: \", max(messages))\n",
        "print(\"Legkevésbé aktív felhasználó üzenetei: \", min(messages))"
      ],
      "metadata": {
        "id": "g2AnlyedqXww"
      },
      "execution_count": null,
      "outputs": []
    },
    {
      "cell_type": "code",
      "source": [
        "import matplotlib.pyplot as plt"
      ],
      "metadata": {
        "id": "Sipy6Uniq6VN"
      },
      "execution_count": null,
      "outputs": []
    },
    {
      "cell_type": "code",
      "source": [
        "# Aktivitás lájkokban - hisztogram\n",
        "plt.hist(likes)"
      ],
      "metadata": {
        "id": "24yJcmKYA_uL"
      },
      "execution_count": null,
      "outputs": []
    },
    {
      "cell_type": "code",
      "source": [
        "# data science ismeret - tortadiagram\n",
        "labels = list(ds_know.keys())\n",
        "sizes = list(ds_know.values())\n",
        "\n",
        "fig, ax = plt.subplots()\n",
        "ax.pie(sizes, labels=labels)\n",
        "# ax.pie(sizes, labels=labels, autopct='%1.2f%%')"
      ],
      "metadata": {
        "id": "YSVdJPD9BEQt"
      },
      "execution_count": null,
      "outputs": []
    },
    {
      "cell_type": "code",
      "source": [
        "# Nyelvi modell ismeret - vízszintes osztlopdiagram\n",
        "\n",
        "# címkék és adatok kinyerése\n",
        "labels = list(llm_use.keys())\n",
        "values = list(llm_use.values())\n",
        "\n",
        "# adatnekevek pozíciója\n",
        "pos = range(len(labels))\n",
        "\n",
        "# diagram\n",
        "fig, ax = plt.subplots()\n",
        "ax.bar(pos, values)\n",
        "ax.set_xticks(pos, labels)\n"
      ],
      "metadata": {
        "id": "zk5mjzJ-tNhm"
      },
      "execution_count": null,
      "outputs": []
    },
    {
      "cell_type": "code",
      "source": [
        "# Nyelvi modell ismeret - kicsit szebben\n",
        "\n",
        "# sorrendezzük az adatokat csökkenő sorrenbe\n",
        "ordered_list = sorted([(k, v) for k, v in llm_use.items()], key=lambda x: -x[1])\n",
        "\n",
        "# nyerjük ki a címkéket és az adatokat\n",
        "labels, values = tuple(zip(*ordered_list))\n",
        "\n",
        "# pozícionáljuk az adatokat visszafelé (felül legyen az első)\n",
        "pos = [len(labels) - i for i in range(len(labels))]\n",
        "\n",
        "# készítsük el a diagramot\n",
        "fig, ax = plt.subplots()\n",
        "ax.barh(pos, values)\n",
        "ax.set_yticks(pos, labels)\n"
      ],
      "metadata": {
        "id": "ecJWsxvwzsyN"
      },
      "execution_count": null,
      "outputs": []
    },
    {
      "cell_type": "markdown",
      "source": [
        "**Feladat #1**\n",
        "\n",
        "Készíts oszlopdiagramot a \"Ki használt már gépi tanulást bármire? kérdésre adott válaszokból\""
      ],
      "metadata": {
        "id": "z9d2dz08vWM7"
      }
    },
    {
      "cell_type": "code",
      "source": [
        "import matplotlib.pyplot as plt"
      ],
      "metadata": {
        "id": "icSwa6iTxWkM"
      },
      "execution_count": null,
      "outputs": []
    },
    {
      "cell_type": "code",
      "source": [
        "# nyomtassuk ki a változó értékét\n",
        "ml_use\n"
      ],
      "metadata": {
        "id": "DVAODGALvjY8"
      },
      "execution_count": null,
      "outputs": []
    },
    {
      "cell_type": "code",
      "source": [
        "# egészítsd ki a kódot - segítség: nyelvi modellnél használtunk ilyet\n",
        "\n",
        "# címkék és adatok kinyerése\n",
        "labels = list( ... )    # honnan jönnek a címkék?\n",
        "values = list( ... )    # hol vannak az adatok?\n",
        "\n",
        "# adatnekevek pozíciója\n",
        "pos = range(len(labels))\n",
        "\n",
        "# diagram\n",
        "fig, ax = plt.subplots()\n",
        "ax. ....(..., ...)               # formula: ax.diagramtípus(pozíciók, értékek)\n",
        "ax.set_xticks(pos, labels)"
      ],
      "metadata": {
        "id": "cwRp-w0NwIx9"
      },
      "execution_count": null,
      "outputs": []
    },
    {
      "cell_type": "markdown",
      "source": [
        "Hogy nézne ki ugyenez tortadiagramon?"
      ],
      "metadata": {
        "id": "r8RPqG8hwn8D"
      }
    },
    {
      "cell_type": "code",
      "source": [
        "# írd ide a kódot - segítség: a data science ismeret tortadiagram volt"
      ],
      "metadata": {
        "id": "3XRP1s3QwiyV"
      },
      "execution_count": null,
      "outputs": []
    },
    {
      "cell_type": "markdown",
      "source": [
        "## Más vizualizációs megoldások\n",
        "\n",
        "Sok más vizualizációs csomag létezik, néhány ismertebb minden javaslat nélkül:\n",
        "- [Plotly](https://plotly.com/python/)  \n",
        "- [Seaborn](https://seaborn.pydata.org/)  \n",
        "- ...  \n",
        "\n",
        "Adatriportok készítésére speciális programok is vannak: Tableau, PowerBI, ... ([wikipedia](https://en.wikipedia.org/wiki/Dashboard_(computing)))\n",
        "\n",
        "\n",
        "Infografikák is ide tartoznak ([wikipedia](https://en.wikipedia.org/wiki/Infographic))"
      ],
      "metadata": {
        "id": "tKbIE3K24L5s"
      }
    },
    {
      "cell_type": "markdown",
      "source": [
        "\n"
      ],
      "metadata": {
        "id": "BsrIn_Jr1r33"
      }
    },
    {
      "cell_type": "markdown",
      "source": [
        "## Meg tudjuk jósolni a cipőméretet?"
      ],
      "metadata": {
        "id": "U_XmMwtD0BbD"
      }
    },
    {
      "cell_type": "code",
      "source": [
        "import pandas as pd"
      ],
      "metadata": {
        "id": "qDIXOfzY0Sd7"
      },
      "execution_count": null,
      "outputs": []
    },
    {
      "cell_type": "code",
      "source": [
        "# az adatunk\n",
        "data"
      ],
      "metadata": {
        "id": "CS_poIHc0u4q"
      },
      "execution_count": null,
      "outputs": []
    },
    {
      "cell_type": "code",
      "source": [
        "# alakítsuk az adatainkat data frame-mé (táblázat)\n",
        "\n",
        "df = pd.DataFrame(data, columns=[\"varmegye\", \"kor\", \"magassag\", \"cipomeret\"])\n",
        "\n",
        "df.head(10)  # első 10 sor"
      ],
      "metadata": {
        "id": "52knh9Nq0lVE"
      },
      "execution_count": null,
      "outputs": []
    },
    {
      "cell_type": "code",
      "source": [
        "# alapinformációk\n",
        "df.info()"
      ],
      "metadata": {
        "id": "uHKJvRo71dhD"
      },
      "execution_count": null,
      "outputs": []
    },
    {
      "cell_type": "code",
      "source": [
        "# ha a cipőméret hiányzik, töröljük a sort\n",
        "df1 = df.loc[df.cipomeret.notnull()]\n",
        "\n",
        "df1.info()"
      ],
      "metadata": {
        "id": "TH2b_xH31wQm"
      },
      "execution_count": null,
      "outputs": []
    },
    {
      "cell_type": "code",
      "source": [
        "# pótoljuk ki a hiányzó vármeegyét\n",
        "country_fill = \"NA\"\n",
        "df1 = df1.fillna({\"varmegye\": country_fill})\n",
        "\n",
        "df1.varmegye.value_counts()"
      ],
      "metadata": {
        "id": "wzHDiRIR-Azn"
      },
      "execution_count": null,
      "outputs": []
    },
    {
      "cell_type": "code",
      "source": [
        "df1.plot.scatter(x=\"varmegye\", y=\"cipomeret\")"
      ],
      "metadata": {
        "id": "RUqaU4VGR1F2"
      },
      "execution_count": null,
      "outputs": []
    },
    {
      "cell_type": "code",
      "source": [
        "# hogyan néznek ki a számadatok?\n",
        "df1.describe()"
      ],
      "metadata": {
        "id": "8Mi_NGKD-zd3"
      },
      "execution_count": null,
      "outputs": []
    },
    {
      "cell_type": "code",
      "source": [
        "# célváltozóhoz képest?\n",
        "df1.plot.scatter(x=\"kor\", y=\"cipomeret\")"
      ],
      "metadata": {
        "id": "D0-X3W4J4Sp7"
      },
      "execution_count": null,
      "outputs": []
    },
    {
      "cell_type": "code",
      "source": [
        "# javítsuk ki a rossz adatokat átlaggal\n",
        "age_mean = df1.kor.loc[df1.kor.notnull() & (df1.kor < 130)].mean()\n",
        "\n",
        "age_mean\n"
      ],
      "metadata": {
        "id": "OFj8p3NN8dDx"
      },
      "execution_count": null,
      "outputs": []
    },
    {
      "cell_type": "code",
      "source": [
        "import numpy as np"
      ],
      "metadata": {
        "id": "WFyU9g_rAJXC"
      },
      "execution_count": null,
      "outputs": []
    },
    {
      "cell_type": "code",
      "source": [
        "df1[\"kor_jav\"] = np.where(df1.kor.isnull() | (df1.kor >= 130), age_mean, df1.kor)\n",
        "\n",
        "df1.loc[df1.kor.isnull() | (df1.kor >= 130), [\"kor\", \"kor_jav\"]]"
      ],
      "metadata": {
        "id": "MwEwDcOKAMZR"
      },
      "execution_count": null,
      "outputs": []
    },
    {
      "cell_type": "markdown",
      "source": [
        "**Feladat #2**\n",
        "\n",
        "Rajzoljuk ki a cipőméret a magasság függvényében és javítsuk ki a hibás adatokat"
      ],
      "metadata": {
        "id": "KFKcRBu56GZv"
      }
    },
    {
      "cell_type": "code",
      "source": [
        "df.plot.scatter(x=..., y=...)"
      ],
      "metadata": {
        "id": "ip7VMMu36bWf"
      },
      "execution_count": null,
      "outputs": []
    },
    {
      "cell_type": "code",
      "source": [
        "# javítsuk ki a magasságot\n",
        "height_mean = df1. ... .loc[df1. ... .notnull & (df1. ... < 250)].mean()\n",
        "df1[\"magassag_jav\"] = np.where(df1. ... .isnull() | (df1. ... >= 250), height_mean, df1.magassag)\n",
        "\n",
        "# ellenőrizzük a javítást\n",
        "df1.loc[ ... , [\"magassag\", \"magassag_jav\"]]\n"
      ],
      "metadata": {
        "id": "fY3DsCBt3BoB"
      },
      "execution_count": null,
      "outputs": []
    },
    {
      "cell_type": "code",
      "source": [
        "# töröljük a felesleges oszlopokat\n",
        "df_final = df1.drop([\"kor\", \"magassag\"], axis=1)\n",
        "\n",
        "df_final.head(10)"
      ],
      "metadata": {
        "id": "zczi-t7lChws"
      },
      "execution_count": null,
      "outputs": []
    },
    {
      "cell_type": "code",
      "source": [
        "df_final.info()"
      ],
      "metadata": {
        "id": "aAERk2RPSu6t"
      },
      "execution_count": null,
      "outputs": []
    },
    {
      "cell_type": "code",
      "source": [
        "# sorindex javítása\n",
        "df_final = df_final.reset_index()"
      ],
      "metadata": {
        "id": "xEM_u13dJrpw"
      },
      "execution_count": null,
      "outputs": []
    },
    {
      "cell_type": "markdown",
      "source": [
        "Szöveges kategóriák átalakítása: [one-hot encoding](https://en.wikipedia.org/wiki/One-hot#Machine_learning_and_statistics)"
      ],
      "metadata": {
        "id": "bQMrEGuPEd-K"
      }
    },
    {
      "cell_type": "code",
      "source": [
        "from sklearn.preprocessing import OneHotEncoder"
      ],
      "metadata": {
        "id": "y2VjonLgF8DW"
      },
      "execution_count": null,
      "outputs": []
    },
    {
      "cell_type": "code",
      "source": [
        "# varmegye oszlopból oszloppvektor\n",
        "varmegyek = df_final[\"varmegye\"].to_numpy().reshape(-1,1)\n",
        "\n",
        "varmegyek[:5]"
      ],
      "metadata": {
        "id": "fXFWaARbHsNQ"
      },
      "execution_count": null,
      "outputs": []
    },
    {
      "cell_type": "code",
      "source": [
        "# kódoló feltanítása az adatainkra és áatalakítás\n",
        "encoder = OneHotEncoder(sparse_output=False)\n",
        "one_hot_encoded = encoder.fit_transform(varmegyek)\n",
        "\n",
        "one_hot_encoded[:5]"
      ],
      "metadata": {
        "id": "ejJMCTBkGRgn"
      },
      "execution_count": null,
      "outputs": []
    },
    {
      "cell_type": "code",
      "source": [
        "# új oszlopok lekérése\n",
        "one_hot_df = pd.DataFrame(one_hot_encoded, columns=encoder.get_feature_names_out([\"varmegyek\"]))\n",
        "\n",
        "one_hot_df.head(2)"
      ],
      "metadata": {
        "id": "mCLBW7g_Iv0o"
      },
      "execution_count": null,
      "outputs": []
    },
    {
      "cell_type": "code",
      "source": [
        "# új oszlopok hozzáadása\n",
        "df_encoded = pd.concat([df_final, one_hot_df], axis=1)\n",
        "\n",
        "df_encoded"
      ],
      "metadata": {
        "id": "sbNWaHR1JAUL"
      },
      "execution_count": null,
      "outputs": []
    },
    {
      "cell_type": "code",
      "source": [
        "# gépi tanulás\n",
        "from sklearn.model_selection import train_test_split\n",
        "from sklearn import linear_model\n",
        "\n",
        "feature_cols = df_encoded.columns[3:]\n",
        "features = df_encoded[feature_cols]\n",
        "target = df_encoded.cipomeret\n",
        "\n",
        "train_X, test_X, train_y, test_y = train_test_split(features, target, test_size=0.2, random_state=42)\n",
        "\n",
        "reg = linear_model.LinearRegression()\n",
        "reg.fit(train_X, train_y)\n",
        "\n",
        "print(reg.intercept_)\n",
        "for i in range(len(feature_cols)):\n",
        "  print(f\"{feature_cols[i]}: {reg.coef_[i]}\")"
      ],
      "metadata": {
        "id": "nO-qvZ0vKdkP"
      },
      "execution_count": null,
      "outputs": []
    },
    {
      "cell_type": "code",
      "source": [
        "# teszteljük\n",
        "pred_y = reg.predict(test_X)"
      ],
      "metadata": {
        "id": "KaRHk2cCO6dp"
      },
      "execution_count": null,
      "outputs": []
    },
    {
      "cell_type": "code",
      "source": [
        "test_pred_data = [\n",
        "    test_X.reset_index().drop(\"index\", axis=1),     # input adat\n",
        "    pd.Series(pred_y, name=\"szamitott\"),            # számított érték\n",
        "    test_y.reset_index().drop(\"index\", axis=1)      # valós érték\n",
        "]\n",
        "\n",
        "test_res = pd.concat(test_pred_data, axis=1)\n",
        "\n",
        "test_res"
      ],
      "metadata": {
        "id": "HUfJec8IPs-m"
      },
      "execution_count": null,
      "outputs": []
    },
    {
      "cell_type": "code",
      "source": [
        "test_res.plot.scatter(\"cipomeret\", \"szamitott\")"
      ],
      "metadata": {
        "id": "InCoG2gTQwdZ"
      },
      "execution_count": null,
      "outputs": []
    },
    {
      "cell_type": "markdown",
      "source": [
        "# Vigyázat, csalok!"
      ],
      "metadata": {
        "id": "DOJLg-IKYaUJ"
      }
    },
    {
      "cell_type": "code",
      "source": [
        "# @title Óvatosan az átlaggal\n",
        "\n",
        "l = [0 for i in range(99)] + [100_000_000]\n",
        "\n",
        "f\"A {len(l)} elem átlaga: {sum(l)/len(l):,.0f}\""
      ],
      "metadata": {
        "cellView": "form",
        "id": "ipkubXZ3YZJ-"
      },
      "execution_count": null,
      "outputs": []
    },
    {
      "cell_type": "code",
      "source": [
        "plt.hist(l)"
      ],
      "metadata": {
        "id": "jkyqAuf9Z7Ph"
      },
      "execution_count": null,
      "outputs": []
    },
    {
      "cell_type": "code",
      "source": [
        "from statistics import median, mode, stdev\n",
        "\n",
        "print(median(l), mode(l), stdev(l))"
      ],
      "metadata": {
        "id": "NDaIZOEAdTu6"
      },
      "execution_count": null,
      "outputs": []
    },
    {
      "cell_type": "code",
      "source": [
        "# @title Fontos hogyan ábrázoljuk az adatokat\n",
        "\n",
        "labels = [\"A\", \"B\"]\n",
        "values = [101, 104]\n",
        "\n",
        "fig, ax = plt.subplots(2, 1)\n",
        "fig.set_size_inches(12,10)\n",
        "ax[0].barh([1, 0], values)\n",
        "ax[0].set_yticks([1, 0], labels)\n",
        "ax[0].set_xlim(left=100, right=105)\n",
        "ax[0].set_xticks([100, 103])\n",
        "\n",
        "ax[1].barh([1, 0], values)\n",
        "ax[1].set_yticks([1, 0], labels)\n",
        "ax[1].set_xlim(right=130)\n",
        "ax[1].set_xticks([0, 80])\n"
      ],
      "metadata": {
        "cellView": "form",
        "id": "OyzY0s_Tfp4S"
      },
      "execution_count": null,
      "outputs": []
    },
    {
      "cell_type": "markdown",
      "source": [
        "### Korreláció =/= ok-okozat\n",
        "\n",
        "[:D:D:D](https://www.tylervigen.com/spurious-correlations)"
      ],
      "metadata": {
        "id": "bsSvDjfmjDrl"
      }
    },
    {
      "cell_type": "markdown",
      "source": [
        "# Ízelítő osztályozási módszerekből - számít, hogy milyen adatra milyen modellt használunk\n",
        "\n",
        "https://ml-playground.com/\n",
        "\n",
        "1. Adj lila és narancs pontokat a felületre kattingatással tetszőleges elrendezésben.  \n",
        "2. Válassz modellt.  \n",
        "3. Kattints a **Train** gombra a modellek alatt (esetleg állíts a paraméteren).  \n",
        "4. Melyik modell a legjobb az adatodra?\n",
        "\n",
        "\n"
      ],
      "metadata": {
        "id": "Rs7QH3d0UD0_"
      }
    },
    {
      "cell_type": "markdown",
      "source": [],
      "metadata": {
        "id": "bEI6xK36lLGt"
      }
    },
    {
      "cell_type": "markdown",
      "source": [
        "# Képfelismerés\n",
        "\n",
        "https://machinelearningforkids.co.uk/#!/welcome\n",
        "\n",
        "1. Kattints a kék **Get started** gombra.  \n",
        "2. Válaszd az utolsó **Try it now** gombot.  \n",
        "3. Válaszd a **Copy template** gombot a jobb szélen.  \n",
        "4. Kattins a **Cats and dogs** elemre (jobb oldalon).  \n",
        "5. A dialógusablakon válaszd az **Import** gombot.\n",
        "6. Kattins a betölött projekre.\n",
        "7. [opcionális] **Train**: képek betöltése a modell betanításához  \n",
        "8. Indítsd a **Learn & test** funkciót  \n",
        "9. A bal oldali mezőben látszik hány képből tanul a modell. Válaszd a **Train new machine learning model** gombot a tanítás indításához.  \n",
        "10. Mikor a modell végzett a tanulással, próbáld ki: rajzolj egy kutyát/macskát a **Test by drawing** opcióra kattintással vagy keress egy képet, illetszd be a linkjét a hosszú mezőbe és kattins a **Test by wwww** gombra."
      ],
      "metadata": {
        "id": "xo8ZBusGpoAY"
      }
    }
  ]
}